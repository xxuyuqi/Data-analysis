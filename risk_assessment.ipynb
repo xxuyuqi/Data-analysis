{
 "cells": [
  {
   "cell_type": "markdown",
   "metadata": {},
   "source": [
    "# 导入需要用到的包"
   ]
  },
  {
   "cell_type": "code",
   "execution_count": 1,
   "metadata": {},
   "outputs": [],
   "source": [
    "import os, time, datetime, sys\n",
    "import numpy as np\n",
    "import pandas as pd\n",
    "from mpl_toolkits.mplot3d import Axes3D\n",
    "import matplotlib.pyplot as plt\n",
    "from dateutil.relativedelta import relativedelta\n",
    "import seaborn as sns\n",
    "from sklearn.linear_model import LinearRegression, LogisticRegression\n",
    "from sklearn.preprocessing import StandardScaler\n",
    "from sklearn.decomposition import PCA\n",
    "from sklearn.metrics import roc_curve, auc, f1_score, mean_squared_error\n",
    "from sklearn.model_selection import train_test_split, GridSearchCV\n",
    "import warnings\n",
    "warnings.filterwarnings('ignore')\n",
    "# Matplotlib中设置字体-黑体，解决Matplotlib中文乱码问题\n",
    "plt.rcParams['font.sans-serif'] = ['SimHei']\n",
    "# 解决Matplotlib坐标轴负号'-'显示为方块的问题\n",
    "plt.rcParams['axes.unicode_minus'] = False\n",
    "%matplotlib inline"
   ]
  },
  {
   "cell_type": "markdown",
   "metadata": {},
   "source": [
    "# 导入数据"
   ]
  },
  {
   "cell_type": "code",
   "execution_count": 2,
   "metadata": {},
   "outputs": [],
   "source": [
    "userinfo = pd.read_csv('userinfo.csv')\n",
    "bank = pd.read_csv('bank.csv')\n",
    "bill = pd.read_csv('bill.csv')\n",
    "overdue = pd.read_csv('overdue.csv')"
   ]
  },
  {
   "cell_type": "markdown",
   "metadata": {},
   "source": [
    "# 查看数据基本信息"
   ]
  },
  {
   "cell_type": "code",
   "execution_count": 3,
   "metadata": {},
   "outputs": [
    {
     "data": {
      "text/html": [
       "<div>\n",
       "<style scoped>\n",
       "    .dataframe tbody tr th:only-of-type {\n",
       "        vertical-align: middle;\n",
       "    }\n",
       "\n",
       "    .dataframe tbody tr th {\n",
       "        vertical-align: top;\n",
       "    }\n",
       "\n",
       "    .dataframe thead th {\n",
       "        text-align: right;\n",
       "    }\n",
       "</style>\n",
       "<table border=\"1\" class=\"dataframe\">\n",
       "  <thead>\n",
       "    <tr style=\"text-align: right;\">\n",
       "      <th></th>\n",
       "      <th>new_user_id</th>\n",
       "      <th>性别</th>\n",
       "      <th>职业</th>\n",
       "      <th>教育程度</th>\n",
       "      <th>婚姻状态</th>\n",
       "      <th>户口类型</th>\n",
       "    </tr>\n",
       "  </thead>\n",
       "  <tbody>\n",
       "    <tr>\n",
       "      <th>0</th>\n",
       "      <td>7259fe272934e0dc348092c37544a445</td>\n",
       "      <td>女</td>\n",
       "      <td>公职</td>\n",
       "      <td>本科及以上</td>\n",
       "      <td>未婚</td>\n",
       "      <td>集体户口</td>\n",
       "    </tr>\n",
       "    <tr>\n",
       "      <th>1</th>\n",
       "      <td>0c87f6b1f7e0350a35841ba34df9d26a</td>\n",
       "      <td>男</td>\n",
       "      <td>公职</td>\n",
       "      <td>本科及以上</td>\n",
       "      <td>离异</td>\n",
       "      <td>集体户口</td>\n",
       "    </tr>\n",
       "    <tr>\n",
       "      <th>2</th>\n",
       "      <td>74c53a62f15cc039864aefc41170f81b</td>\n",
       "      <td>男</td>\n",
       "      <td>公职</td>\n",
       "      <td>大专</td>\n",
       "      <td>离异</td>\n",
       "      <td>家庭户口</td>\n",
       "    </tr>\n",
       "    <tr>\n",
       "      <th>3</th>\n",
       "      <td>211f56f356fa6ecc6334bb73e52c7b16</td>\n",
       "      <td>男</td>\n",
       "      <td>企业</td>\n",
       "      <td>高中</td>\n",
       "      <td>离异</td>\n",
       "      <td>农业户口</td>\n",
       "    </tr>\n",
       "    <tr>\n",
       "      <th>4</th>\n",
       "      <td>07b0d9ac7924424894141b2fecfa0ee0</td>\n",
       "      <td>男</td>\n",
       "      <td>公职</td>\n",
       "      <td>本科及以上</td>\n",
       "      <td>已婚</td>\n",
       "      <td>集体户口</td>\n",
       "    </tr>\n",
       "  </tbody>\n",
       "</table>\n",
       "</div>"
      ],
      "text/plain": [
       "                        new_user_id 性别  职业   教育程度 婚姻状态  户口类型\n",
       "0  7259fe272934e0dc348092c37544a445  女  公职  本科及以上   未婚  集体户口\n",
       "1  0c87f6b1f7e0350a35841ba34df9d26a  男  公职  本科及以上   离异  集体户口\n",
       "2  74c53a62f15cc039864aefc41170f81b  男  公职     大专   离异  家庭户口\n",
       "3  211f56f356fa6ecc6334bb73e52c7b16  男  企业     高中   离异  农业户口\n",
       "4  07b0d9ac7924424894141b2fecfa0ee0  男  公职  本科及以上   已婚  集体户口"
      ]
     },
     "execution_count": 3,
     "metadata": {},
     "output_type": "execute_result"
    }
   ],
   "source": [
    "userinfo.head()"
   ]
  },
  {
   "cell_type": "code",
   "execution_count": 4,
   "metadata": {},
   "outputs": [
    {
     "data": {
      "text/html": [
       "<div>\n",
       "<style scoped>\n",
       "    .dataframe tbody tr th:only-of-type {\n",
       "        vertical-align: middle;\n",
       "    }\n",
       "\n",
       "    .dataframe tbody tr th {\n",
       "        vertical-align: top;\n",
       "    }\n",
       "\n",
       "    .dataframe thead th {\n",
       "        text-align: right;\n",
       "    }\n",
       "</style>\n",
       "<table border=\"1\" class=\"dataframe\">\n",
       "  <thead>\n",
       "    <tr style=\"text-align: right;\">\n",
       "      <th></th>\n",
       "      <th>new_user_id</th>\n",
       "      <th>交易时间戳</th>\n",
       "      <th>交易类型</th>\n",
       "      <th>交易金额</th>\n",
       "      <th>工资收入标记</th>\n",
       "      <th>交易时间</th>\n",
       "      <th>交易年</th>\n",
       "      <th>交易月</th>\n",
       "      <th>交易日</th>\n",
       "      <th>交易时</th>\n",
       "      <th>交易分</th>\n",
       "      <th>交易秒</th>\n",
       "    </tr>\n",
       "  </thead>\n",
       "  <tbody>\n",
       "    <tr>\n",
       "      <th>0</th>\n",
       "      <td>65b01fba105ee82613babff7c88929c5</td>\n",
       "      <td>58848407247</td>\n",
       "      <td>1</td>\n",
       "      <td>43.757548</td>\n",
       "      <td>0</td>\n",
       "      <td>2156-06-25 21:58:44</td>\n",
       "      <td>2156</td>\n",
       "      <td>6</td>\n",
       "      <td>25</td>\n",
       "      <td>21</td>\n",
       "      <td>58</td>\n",
       "      <td>44</td>\n",
       "    </tr>\n",
       "    <tr>\n",
       "      <th>1</th>\n",
       "      <td>65b01fba105ee82613babff7c88929c5</td>\n",
       "      <td>58849365297</td>\n",
       "      <td>1</td>\n",
       "      <td>42.143743</td>\n",
       "      <td>0</td>\n",
       "      <td>2156-06-27 00:35:29</td>\n",
       "      <td>2156</td>\n",
       "      <td>6</td>\n",
       "      <td>27</td>\n",
       "      <td>0</td>\n",
       "      <td>35</td>\n",
       "      <td>29</td>\n",
       "    </tr>\n",
       "    <tr>\n",
       "      <th>2</th>\n",
       "      <td>65b01fba105ee82613babff7c88929c5</td>\n",
       "      <td>58850118237</td>\n",
       "      <td>1</td>\n",
       "      <td>40.189051</td>\n",
       "      <td>0</td>\n",
       "      <td>2156-06-27 21:30:23</td>\n",
       "      <td>2156</td>\n",
       "      <td>6</td>\n",
       "      <td>27</td>\n",
       "      <td>21</td>\n",
       "      <td>30</td>\n",
       "      <td>23</td>\n",
       "    </tr>\n",
       "    <tr>\n",
       "      <th>3</th>\n",
       "      <td>65b01fba105ee82613babff7c88929c5</td>\n",
       "      <td>58850118447</td>\n",
       "      <td>1</td>\n",
       "      <td>40.189051</td>\n",
       "      <td>0</td>\n",
       "      <td>2156-06-27 21:30:44</td>\n",
       "      <td>2156</td>\n",
       "      <td>6</td>\n",
       "      <td>27</td>\n",
       "      <td>21</td>\n",
       "      <td>30</td>\n",
       "      <td>44</td>\n",
       "    </tr>\n",
       "    <tr>\n",
       "      <th>4</th>\n",
       "      <td>65b01fba105ee82613babff7c88929c5</td>\n",
       "      <td>58850244487</td>\n",
       "      <td>1</td>\n",
       "      <td>40.189051</td>\n",
       "      <td>0</td>\n",
       "      <td>2156-06-28 01:00:48</td>\n",
       "      <td>2156</td>\n",
       "      <td>6</td>\n",
       "      <td>28</td>\n",
       "      <td>1</td>\n",
       "      <td>0</td>\n",
       "      <td>48</td>\n",
       "    </tr>\n",
       "  </tbody>\n",
       "</table>\n",
       "</div>"
      ],
      "text/plain": [
       "                        new_user_id        交易时间戳  交易类型       交易金额  工资收入标记  \\\n",
       "0  65b01fba105ee82613babff7c88929c5  58848407247     1  43.757548       0   \n",
       "1  65b01fba105ee82613babff7c88929c5  58849365297     1  42.143743       0   \n",
       "2  65b01fba105ee82613babff7c88929c5  58850118237     1  40.189051       0   \n",
       "3  65b01fba105ee82613babff7c88929c5  58850118447     1  40.189051       0   \n",
       "4  65b01fba105ee82613babff7c88929c5  58850244487     1  40.189051       0   \n",
       "\n",
       "                  交易时间   交易年  交易月  交易日  交易时  交易分  交易秒  \n",
       "0  2156-06-25 21:58:44  2156    6   25   21   58   44  \n",
       "1  2156-06-27 00:35:29  2156    6   27    0   35   29  \n",
       "2  2156-06-27 21:30:23  2156    6   27   21   30   23  \n",
       "3  2156-06-27 21:30:44  2156    6   27   21   30   44  \n",
       "4  2156-06-28 01:00:48  2156    6   28    1    0   48  "
      ]
     },
     "execution_count": 4,
     "metadata": {},
     "output_type": "execute_result"
    }
   ],
   "source": [
    "bank.head()"
   ]
  },
  {
   "cell_type": "code",
   "execution_count": 5,
   "metadata": {},
   "outputs": [
    {
     "data": {
      "text/html": [
       "<div>\n",
       "<style scoped>\n",
       "    .dataframe tbody tr th:only-of-type {\n",
       "        vertical-align: middle;\n",
       "    }\n",
       "\n",
       "    .dataframe tbody tr th {\n",
       "        vertical-align: top;\n",
       "    }\n",
       "\n",
       "    .dataframe thead th {\n",
       "        text-align: right;\n",
       "    }\n",
       "</style>\n",
       "<table border=\"1\" class=\"dataframe\">\n",
       "  <thead>\n",
       "    <tr style=\"text-align: right;\">\n",
       "      <th></th>\n",
       "      <th>new_user_id</th>\n",
       "      <th>账单时间戳</th>\n",
       "      <th>银行id</th>\n",
       "      <th>上期账单金额</th>\n",
       "      <th>上期还款金额</th>\n",
       "      <th>信用卡额度</th>\n",
       "      <th>本期账单余额</th>\n",
       "      <th>本期账单最低还款额</th>\n",
       "      <th>消费笔数</th>\n",
       "      <th>本期账单金额</th>\n",
       "      <th>...</th>\n",
       "      <th>可用金额</th>\n",
       "      <th>预借现金额度</th>\n",
       "      <th>还款状态</th>\n",
       "      <th>账单时间</th>\n",
       "      <th>账单年</th>\n",
       "      <th>账单月</th>\n",
       "      <th>账单日</th>\n",
       "      <th>账单时</th>\n",
       "      <th>账单分</th>\n",
       "      <th>账单秒</th>\n",
       "    </tr>\n",
       "  </thead>\n",
       "  <tbody>\n",
       "    <tr>\n",
       "      <th>0</th>\n",
       "      <td>eddcaa8984f8db5199ec28323efb18a4</td>\n",
       "      <td>59067443637</td>\n",
       "      <td>6</td>\n",
       "      <td>50.622246</td>\n",
       "      <td>50.657612</td>\n",
       "      <td>52.596975</td>\n",
       "      <td>50.897707</td>\n",
       "      <td>49.846899</td>\n",
       "      <td>1</td>\n",
       "      <td>26.457513</td>\n",
       "      <td>...</td>\n",
       "      <td>26.457513</td>\n",
       "      <td>51.933872</td>\n",
       "      <td>0</td>\n",
       "      <td>2157-03-06 10:19:23</td>\n",
       "      <td>2157</td>\n",
       "      <td>3</td>\n",
       "      <td>6</td>\n",
       "      <td>10</td>\n",
       "      <td>19</td>\n",
       "      <td>23</td>\n",
       "    </tr>\n",
       "    <tr>\n",
       "      <th>1</th>\n",
       "      <td>eddcaa8984f8db5199ec28323efb18a4</td>\n",
       "      <td>59067444017</td>\n",
       "      <td>6</td>\n",
       "      <td>50.897707</td>\n",
       "      <td>50.901821</td>\n",
       "      <td>52.596975</td>\n",
       "      <td>51.101179</td>\n",
       "      <td>49.911428</td>\n",
       "      <td>1</td>\n",
       "      <td>26.457513</td>\n",
       "      <td>...</td>\n",
       "      <td>26.457513</td>\n",
       "      <td>51.933872</td>\n",
       "      <td>0</td>\n",
       "      <td>2157-03-06 10:20:01</td>\n",
       "      <td>2157</td>\n",
       "      <td>3</td>\n",
       "      <td>6</td>\n",
       "      <td>10</td>\n",
       "      <td>20</td>\n",
       "      <td>1</td>\n",
       "    </tr>\n",
       "    <tr>\n",
       "      <th>2</th>\n",
       "      <td>eddcaa8984f8db5199ec28323efb18a4</td>\n",
       "      <td>59067444277</td>\n",
       "      <td>6</td>\n",
       "      <td>51.101179</td>\n",
       "      <td>51.137354</td>\n",
       "      <td>52.596975</td>\n",
       "      <td>51.283715</td>\n",
       "      <td>49.977605</td>\n",
       "      <td>1</td>\n",
       "      <td>26.457513</td>\n",
       "      <td>...</td>\n",
       "      <td>26.457513</td>\n",
       "      <td>51.933872</td>\n",
       "      <td>0</td>\n",
       "      <td>2157-03-06 10:20:27</td>\n",
       "      <td>2157</td>\n",
       "      <td>3</td>\n",
       "      <td>6</td>\n",
       "      <td>10</td>\n",
       "      <td>20</td>\n",
       "      <td>27</td>\n",
       "    </tr>\n",
       "    <tr>\n",
       "      <th>3</th>\n",
       "      <td>eddcaa8984f8db5199ec28323efb18a4</td>\n",
       "      <td>59067445157</td>\n",
       "      <td>6</td>\n",
       "      <td>51.283715</td>\n",
       "      <td>51.283799</td>\n",
       "      <td>52.915867</td>\n",
       "      <td>52.252502</td>\n",
       "      <td>50.474921</td>\n",
       "      <td>1</td>\n",
       "      <td>26.457513</td>\n",
       "      <td>...</td>\n",
       "      <td>26.457513</td>\n",
       "      <td>52.256811</td>\n",
       "      <td>0</td>\n",
       "      <td>2157-03-06 10:21:55</td>\n",
       "      <td>2157</td>\n",
       "      <td>3</td>\n",
       "      <td>6</td>\n",
       "      <td>10</td>\n",
       "      <td>21</td>\n",
       "      <td>55</td>\n",
       "    </tr>\n",
       "    <tr>\n",
       "      <th>4</th>\n",
       "      <td>eddcaa8984f8db5199ec28323efb18a4</td>\n",
       "      <td>59067445627</td>\n",
       "      <td>6</td>\n",
       "      <td>52.252502</td>\n",
       "      <td>52.256812</td>\n",
       "      <td>52.915867</td>\n",
       "      <td>52.304048</td>\n",
       "      <td>50.508400</td>\n",
       "      <td>1</td>\n",
       "      <td>26.457513</td>\n",
       "      <td>...</td>\n",
       "      <td>26.457513</td>\n",
       "      <td>52.256811</td>\n",
       "      <td>0</td>\n",
       "      <td>2157-03-06 10:22:42</td>\n",
       "      <td>2157</td>\n",
       "      <td>3</td>\n",
       "      <td>6</td>\n",
       "      <td>10</td>\n",
       "      <td>22</td>\n",
       "      <td>42</td>\n",
       "    </tr>\n",
       "  </tbody>\n",
       "</table>\n",
       "<p>5 rows × 22 columns</p>\n",
       "</div>"
      ],
      "text/plain": [
       "                        new_user_id        账单时间戳  银行id     上期账单金额     上期还款金额  \\\n",
       "0  eddcaa8984f8db5199ec28323efb18a4  59067443637     6  50.622246  50.657612   \n",
       "1  eddcaa8984f8db5199ec28323efb18a4  59067444017     6  50.897707  50.901821   \n",
       "2  eddcaa8984f8db5199ec28323efb18a4  59067444277     6  51.101179  51.137354   \n",
       "3  eddcaa8984f8db5199ec28323efb18a4  59067445157     6  51.283715  51.283799   \n",
       "4  eddcaa8984f8db5199ec28323efb18a4  59067445627     6  52.252502  52.256812   \n",
       "\n",
       "       信用卡额度     本期账单余额  本期账单最低还款额  消费笔数     本期账单金额  ...       可用金额  \\\n",
       "0  52.596975  50.897707  49.846899     1  26.457513  ...  26.457513   \n",
       "1  52.596975  51.101179  49.911428     1  26.457513  ...  26.457513   \n",
       "2  52.596975  51.283715  49.977605     1  26.457513  ...  26.457513   \n",
       "3  52.915867  52.252502  50.474921     1  26.457513  ...  26.457513   \n",
       "4  52.915867  52.304048  50.508400     1  26.457513  ...  26.457513   \n",
       "\n",
       "      预借现金额度  还款状态                 账单时间   账单年 账单月  账单日  账单时  账单分  账单秒  \n",
       "0  51.933872     0  2157-03-06 10:19:23  2157   3    6   10   19   23  \n",
       "1  51.933872     0  2157-03-06 10:20:01  2157   3    6   10   20    1  \n",
       "2  51.933872     0  2157-03-06 10:20:27  2157   3    6   10   20   27  \n",
       "3  52.256811     0  2157-03-06 10:21:55  2157   3    6   10   21   55  \n",
       "4  52.256811     0  2157-03-06 10:22:42  2157   3    6   10   22   42  \n",
       "\n",
       "[5 rows x 22 columns]"
      ]
     },
     "execution_count": 5,
     "metadata": {},
     "output_type": "execute_result"
    }
   ],
   "source": [
    "bill.head()"
   ]
  },
  {
   "cell_type": "code",
   "execution_count": 6,
   "metadata": {},
   "outputs": [
    {
     "data": {
      "text/html": [
       "<div>\n",
       "<style scoped>\n",
       "    .dataframe tbody tr th:only-of-type {\n",
       "        vertical-align: middle;\n",
       "    }\n",
       "\n",
       "    .dataframe tbody tr th {\n",
       "        vertical-align: top;\n",
       "    }\n",
       "\n",
       "    .dataframe thead th {\n",
       "        text-align: right;\n",
       "    }\n",
       "</style>\n",
       "<table border=\"1\" class=\"dataframe\">\n",
       "  <thead>\n",
       "    <tr style=\"text-align: right;\">\n",
       "      <th></th>\n",
       "      <th>new_user_id</th>\n",
       "      <th>标签</th>\n",
       "      <th>分数</th>\n",
       "    </tr>\n",
       "  </thead>\n",
       "  <tbody>\n",
       "    <tr>\n",
       "      <th>0</th>\n",
       "      <td>eddcaa8984f8db5199ec28323efb18a4</td>\n",
       "      <td>0</td>\n",
       "      <td>80.619639</td>\n",
       "    </tr>\n",
       "    <tr>\n",
       "      <th>1</th>\n",
       "      <td>65b01fba105ee82613babff7c88929c5</td>\n",
       "      <td>1</td>\n",
       "      <td>53.052357</td>\n",
       "    </tr>\n",
       "    <tr>\n",
       "      <th>2</th>\n",
       "      <td>968083a2d1a7e6b5b85a66b0bc412830</td>\n",
       "      <td>1</td>\n",
       "      <td>46.796518</td>\n",
       "    </tr>\n",
       "    <tr>\n",
       "      <th>3</th>\n",
       "      <td>18aeed58fd39a58cc1430a3a417ed7a9</td>\n",
       "      <td>1</td>\n",
       "      <td>82.354501</td>\n",
       "    </tr>\n",
       "    <tr>\n",
       "      <th>4</th>\n",
       "      <td>bae4896cea4a34616ae3babca11439ae</td>\n",
       "      <td>1</td>\n",
       "      <td>83.758928</td>\n",
       "    </tr>\n",
       "  </tbody>\n",
       "</table>\n",
       "</div>"
      ],
      "text/plain": [
       "                        new_user_id  标签         分数\n",
       "0  eddcaa8984f8db5199ec28323efb18a4   0  80.619639\n",
       "1  65b01fba105ee82613babff7c88929c5   1  53.052357\n",
       "2  968083a2d1a7e6b5b85a66b0bc412830   1  46.796518\n",
       "3  18aeed58fd39a58cc1430a3a417ed7a9   1  82.354501\n",
       "4  bae4896cea4a34616ae3babca11439ae   1  83.758928"
      ]
     },
     "execution_count": 6,
     "metadata": {},
     "output_type": "execute_result"
    }
   ],
   "source": [
    "overdue.head()"
   ]
  },
  {
   "cell_type": "code",
   "execution_count": 7,
   "metadata": {},
   "outputs": [
    {
     "name": "stdout",
     "output_type": "stream",
     "text": [
      "<class 'pandas.core.frame.DataFrame'>\n",
      "RangeIndex: 10000 entries, 0 to 9999\n",
      "Data columns (total 6 columns):\n",
      " #   Column       Non-Null Count  Dtype \n",
      "---  ------       --------------  ----- \n",
      " 0   new_user_id  10000 non-null  object\n",
      " 1   性别           10000 non-null  object\n",
      " 2   职业           9998 non-null   object\n",
      " 3   教育程度         10000 non-null  object\n",
      " 4   婚姻状态         9999 non-null   object\n",
      " 5   户口类型         10000 non-null  object\n",
      "dtypes: object(6)\n",
      "memory usage: 468.9+ KB\n"
     ]
    }
   ],
   "source": [
    "userinfo.info()"
   ]
  },
  {
   "cell_type": "code",
   "execution_count": 8,
   "metadata": {},
   "outputs": [
    {
     "name": "stdout",
     "output_type": "stream",
     "text": [
      "<class 'pandas.core.frame.DataFrame'>\n",
      "RangeIndex: 1068424 entries, 0 to 1068423\n",
      "Data columns (total 12 columns):\n",
      " #   Column       Non-Null Count    Dtype  \n",
      "---  ------       --------------    -----  \n",
      " 0   new_user_id  1068424 non-null  object \n",
      " 1   交易时间戳        1068424 non-null  int64  \n",
      " 2   交易类型         1068424 non-null  int64  \n",
      " 3   交易金额         1068424 non-null  float64\n",
      " 4   工资收入标记       1068424 non-null  int64  \n",
      " 5   交易时间         1068424 non-null  object \n",
      " 6   交易年          1068424 non-null  int64  \n",
      " 7   交易月          1068424 non-null  int64  \n",
      " 8   交易日          1068424 non-null  int64  \n",
      " 9   交易时          1068424 non-null  int64  \n",
      " 10  交易分          1068424 non-null  int64  \n",
      " 11  交易秒          1068424 non-null  int64  \n",
      "dtypes: float64(1), int64(9), object(2)\n",
      "memory usage: 97.8+ MB\n"
     ]
    }
   ],
   "source": [
    "bank.info()"
   ]
  },
  {
   "cell_type": "code",
   "execution_count": 9,
   "metadata": {},
   "outputs": [
    {
     "name": "stdout",
     "output_type": "stream",
     "text": [
      "<class 'pandas.core.frame.DataFrame'>\n",
      "RangeIndex: 429441 entries, 0 to 429440\n",
      "Data columns (total 22 columns):\n",
      " #   Column       Non-Null Count   Dtype  \n",
      "---  ------       --------------   -----  \n",
      " 0   new_user_id  429441 non-null  object \n",
      " 1   账单时间戳        429441 non-null  int64  \n",
      " 2   银行id         429441 non-null  int64  \n",
      " 3   上期账单金额       429441 non-null  float64\n",
      " 4   上期还款金额       429441 non-null  float64\n",
      " 5   信用卡额度        429441 non-null  float64\n",
      " 6   本期账单余额       429441 non-null  float64\n",
      " 7   本期账单最低还款额    429441 non-null  float64\n",
      " 8   消费笔数         429441 non-null  int64  \n",
      " 9   本期账单金额       429441 non-null  float64\n",
      " 10  调整金额         429441 non-null  float64\n",
      " 11  循环利息         429441 non-null  float64\n",
      " 12  可用金额         429441 non-null  float64\n",
      " 13  预借现金额度       429441 non-null  float64\n",
      " 14  还款状态         429441 non-null  int64  \n",
      " 15  账单时间         429441 non-null  object \n",
      " 16  账单年          429441 non-null  int64  \n",
      " 17  账单月          429441 non-null  int64  \n",
      " 18  账单日          429441 non-null  int64  \n",
      " 19  账单时          429441 non-null  int64  \n",
      " 20  账单分          429441 non-null  int64  \n",
      " 21  账单秒          429441 non-null  int64  \n",
      "dtypes: float64(10), int64(10), object(2)\n",
      "memory usage: 72.1+ MB\n"
     ]
    }
   ],
   "source": [
    "bill.info()"
   ]
  },
  {
   "cell_type": "code",
   "execution_count": 10,
   "metadata": {},
   "outputs": [
    {
     "name": "stdout",
     "output_type": "stream",
     "text": [
      "<class 'pandas.core.frame.DataFrame'>\n",
      "RangeIndex: 10000 entries, 0 to 9999\n",
      "Data columns (total 3 columns):\n",
      " #   Column       Non-Null Count  Dtype  \n",
      "---  ------       --------------  -----  \n",
      " 0   new_user_id  10000 non-null  object \n",
      " 1   标签           10000 non-null  int64  \n",
      " 2   分数           10000 non-null  float64\n",
      "dtypes: float64(1), int64(1), object(1)\n",
      "memory usage: 234.5+ KB\n"
     ]
    }
   ],
   "source": [
    "overdue.info()"
   ]
  },
  {
   "cell_type": "markdown",
   "metadata": {},
   "source": [
    "# 处理缺失值，进行数据编码"
   ]
  },
  {
   "cell_type": "code",
   "execution_count": 11,
   "metadata": {},
   "outputs": [],
   "source": [
    "userinfo = userinfo[~userinfo.isnull().T.any()]"
   ]
  },
  {
   "cell_type": "code",
   "execution_count": 12,
   "metadata": {},
   "outputs": [],
   "source": [
    "def toDict(col):\n",
    "    \"\"\"\n",
    "    这个函数的作用：生成替换字典，加入 col 列有两种值 A B\n",
    "    则生成：{A: 0, B: 1}  即把 A 替换为 0 ， B 替换为 1\n",
    "    \"\"\"\n",
    "    res = {}\n",
    "    cnt = 0\n",
    "    for e in userinfo[col].unique():\n",
    "        res[e] = cnt\n",
    "        cnt += 1\n",
    "    return res\n",
    "# 生成列的替换字典\n",
    "dict1 = toDict(\"性别\")\n",
    "dict2 = toDict(\"职业\")\n",
    "dict3 = toDict(\"教育程度\")\n",
    "dict4 = toDict(\"婚姻状态\")\n",
    "dict5 = toDict(\"户口类型\")\n",
    "# 替换后结果\n",
    "userinfo = userinfo.replace({\"性别\": dict1, \"职业\": dict2, \"教育程度\": dict3, \"婚姻状态\": dict4, \"户口类型\": dict5})"
   ]
  },
  {
   "cell_type": "code",
   "execution_count": 13,
   "metadata": {},
   "outputs": [
    {
     "data": {
      "text/html": [
       "<div>\n",
       "<style scoped>\n",
       "    .dataframe tbody tr th:only-of-type {\n",
       "        vertical-align: middle;\n",
       "    }\n",
       "\n",
       "    .dataframe tbody tr th {\n",
       "        vertical-align: top;\n",
       "    }\n",
       "\n",
       "    .dataframe thead th {\n",
       "        text-align: right;\n",
       "    }\n",
       "</style>\n",
       "<table border=\"1\" class=\"dataframe\">\n",
       "  <thead>\n",
       "    <tr style=\"text-align: right;\">\n",
       "      <th></th>\n",
       "      <th>new_user_id</th>\n",
       "      <th>平均欠款金额</th>\n",
       "    </tr>\n",
       "  </thead>\n",
       "  <tbody>\n",
       "    <tr>\n",
       "      <th>0</th>\n",
       "      <td>0000a11bede26d01990cd7bf86a4ffed</td>\n",
       "      <td>1.595222</td>\n",
       "    </tr>\n",
       "    <tr>\n",
       "      <th>1</th>\n",
       "      <td>0001102f53f24a8952ed5b47f9564354</td>\n",
       "      <td>-1.647174</td>\n",
       "    </tr>\n",
       "    <tr>\n",
       "      <th>2</th>\n",
       "      <td>000228d848615f1320914e0cf6064d12</td>\n",
       "      <td>-24.352021</td>\n",
       "    </tr>\n",
       "    <tr>\n",
       "      <th>3</th>\n",
       "      <td>0003f283dfacd7100bba76d876cf94da</td>\n",
       "      <td>-3.289508</td>\n",
       "    </tr>\n",
       "    <tr>\n",
       "      <th>4</th>\n",
       "      <td>000fc975cf7a868719446414a5034eae</td>\n",
       "      <td>0.702195</td>\n",
       "    </tr>\n",
       "  </tbody>\n",
       "</table>\n",
       "</div>"
      ],
      "text/plain": [
       "                        new_user_id     平均欠款金额\n",
       "0  0000a11bede26d01990cd7bf86a4ffed   1.595222\n",
       "1  0001102f53f24a8952ed5b47f9564354  -1.647174\n",
       "2  000228d848615f1320914e0cf6064d12 -24.352021\n",
       "3  0003f283dfacd7100bba76d876cf94da  -3.289508\n",
       "4  000fc975cf7a868719446414a5034eae   0.702195"
      ]
     },
     "execution_count": 13,
     "metadata": {},
     "output_type": "execute_result"
    }
   ],
   "source": [
    "bill[\"欠款金额\"] = bill[\"上期账单金额\"] - bill[\"上期还款金额\"]\n",
    "agg_cormoney = bill.groupby(\"new_user_id\")[\"欠款金额\"].agg([\"mean\"])\n",
    "agg_cormoney.columns = [\"平均欠款金额\"]\n",
    "agg_cormoney.reset_index(inplace=True)\n",
    "agg_cormoney.head(5)"
   ]
  },
  {
   "cell_type": "code",
   "execution_count": 14,
   "metadata": {},
   "outputs": [
    {
     "data": {
      "text/html": [
       "<div>\n",
       "<style scoped>\n",
       "    .dataframe tbody tr th:only-of-type {\n",
       "        vertical-align: middle;\n",
       "    }\n",
       "\n",
       "    .dataframe tbody tr th {\n",
       "        vertical-align: top;\n",
       "    }\n",
       "\n",
       "    .dataframe thead th {\n",
       "        text-align: right;\n",
       "    }\n",
       "</style>\n",
       "<table border=\"1\" class=\"dataframe\">\n",
       "  <thead>\n",
       "    <tr style=\"text-align: right;\">\n",
       "      <th></th>\n",
       "      <th>new_user_id</th>\n",
       "      <th>平均工资收入</th>\n",
       "    </tr>\n",
       "  </thead>\n",
       "  <tbody>\n",
       "    <tr>\n",
       "      <th>0</th>\n",
       "      <td>00375b8a7a62da4f578f4f4464fc4228</td>\n",
       "      <td>44.964550</td>\n",
       "    </tr>\n",
       "    <tr>\n",
       "      <th>1</th>\n",
       "      <td>00872649357929f1f3d7fafbe484810b</td>\n",
       "      <td>46.415984</td>\n",
       "    </tr>\n",
       "    <tr>\n",
       "      <th>2</th>\n",
       "      <td>00e44c200eeb161df7d08ac1b79bd4a7</td>\n",
       "      <td>47.292812</td>\n",
       "    </tr>\n",
       "    <tr>\n",
       "      <th>3</th>\n",
       "      <td>02419b54629f540d3430e6ba8230aac4</td>\n",
       "      <td>45.600048</td>\n",
       "    </tr>\n",
       "    <tr>\n",
       "      <th>4</th>\n",
       "      <td>024c12c231362aa4206c001674abe30f</td>\n",
       "      <td>40.380961</td>\n",
       "    </tr>\n",
       "  </tbody>\n",
       "</table>\n",
       "</div>"
      ],
      "text/plain": [
       "                        new_user_id     平均工资收入\n",
       "0  00375b8a7a62da4f578f4f4464fc4228  44.964550\n",
       "1  00872649357929f1f3d7fafbe484810b  46.415984\n",
       "2  00e44c200eeb161df7d08ac1b79bd4a7  47.292812\n",
       "3  02419b54629f540d3430e6ba8230aac4  45.600048\n",
       "4  024c12c231362aa4206c001674abe30f  40.380961"
      ]
     },
     "execution_count": 14,
     "metadata": {},
     "output_type": "execute_result"
    }
   ],
   "source": [
    "agg_salary1 = bank[bank['工资收入标记'] == 1].groupby(\"new_user_id\")['交易金额'].agg([\"mean\"])\n",
    "agg_salary1.columns = ['平均工资收入']\n",
    "agg_salary1.reset_index(inplace=True)\n",
    "agg_salary1.head(5)"
   ]
  },
  {
   "cell_type": "code",
   "execution_count": 15,
   "metadata": {},
   "outputs": [
    {
     "data": {
      "text/html": [
       "<div>\n",
       "<style scoped>\n",
       "    .dataframe tbody tr th:only-of-type {\n",
       "        vertical-align: middle;\n",
       "    }\n",
       "\n",
       "    .dataframe tbody tr th {\n",
       "        vertical-align: top;\n",
       "    }\n",
       "\n",
       "    .dataframe thead th {\n",
       "        text-align: right;\n",
       "    }\n",
       "</style>\n",
       "<table border=\"1\" class=\"dataframe\">\n",
       "  <thead>\n",
       "    <tr style=\"text-align: right;\">\n",
       "      <th></th>\n",
       "      <th>new_user_id</th>\n",
       "      <th>平均还款比例</th>\n",
       "    </tr>\n",
       "  </thead>\n",
       "  <tbody>\n",
       "    <tr>\n",
       "      <th>0</th>\n",
       "      <td>0000a11bede26d01990cd7bf86a4ffed</td>\n",
       "      <td>1.032223</td>\n",
       "    </tr>\n",
       "    <tr>\n",
       "      <th>1</th>\n",
       "      <td>0001102f53f24a8952ed5b47f9564354</td>\n",
       "      <td>0.968705</td>\n",
       "    </tr>\n",
       "    <tr>\n",
       "      <th>2</th>\n",
       "      <td>000228d848615f1320914e0cf6064d12</td>\n",
       "      <td>0.520719</td>\n",
       "    </tr>\n",
       "    <tr>\n",
       "      <th>3</th>\n",
       "      <td>0003f283dfacd7100bba76d876cf94da</td>\n",
       "      <td>0.926490</td>\n",
       "    </tr>\n",
       "    <tr>\n",
       "      <th>4</th>\n",
       "      <td>000fc975cf7a868719446414a5034eae</td>\n",
       "      <td>1.014207</td>\n",
       "    </tr>\n",
       "  </tbody>\n",
       "</table>\n",
       "</div>"
      ],
      "text/plain": [
       "                        new_user_id    平均还款比例\n",
       "0  0000a11bede26d01990cd7bf86a4ffed  1.032223\n",
       "1  0001102f53f24a8952ed5b47f9564354  0.968705\n",
       "2  000228d848615f1320914e0cf6064d12  0.520719\n",
       "3  0003f283dfacd7100bba76d876cf94da  0.926490\n",
       "4  000fc975cf7a868719446414a5034eae  1.014207"
      ]
     },
     "execution_count": 15,
     "metadata": {},
     "output_type": "execute_result"
    }
   ],
   "source": [
    "bill[\"还款比例\"] = bill[\"上期账单金额\"] / bill[\"上期还款金额\"]\n",
    "agg_cormoney1 = bill.groupby(\"new_user_id\")[\"还款比例\"].agg([\"mean\"])\n",
    "agg_cormoney1.columns = [\"平均还款比例\"]\n",
    "agg_cormoney1.reset_index(inplace=True)\n",
    "agg_cormoney1.head(5)"
   ]
  },
  {
   "cell_type": "code",
   "execution_count": 16,
   "metadata": {},
   "outputs": [],
   "source": [
    "def cust_period(value, op=\"days\", op_period=0, base_dt=None):\n",
    "    value_list = value.tolist()\n",
    "    \n",
    "    while \"-1\" in value_list:\n",
    "        value_list.remove(\"-1\")\n",
    "    if len(value_list) != 0:\n",
    "        if not base_dt:\n",
    "            max_dt = max(value_list)\n",
    "        else:\n",
    "            max_dt = base_dt\n",
    "\n",
    "        if op == \"years\":\n",
    "            end_dt = (datetime.datetime.strptime(max_dt, \"%Y-%m-%d %H:%M:%S\") + relativedelta(years=-op_period)).strftime(\"%Y-%m-%d %H:%M:%S\")\n",
    "        elif op == \"months\":\n",
    "            end_dt = (datetime.datetime.strptime(max_dt, \"%Y-%m-%d %H:%M:%S\") + relativedelta(months=-op_period)).strftime(\"%Y-%m-%d %H:%M:%S\")\n",
    "        elif op == \"weeks\":\n",
    "            end_dt = (datetime.datetime.strptime(max_dt, \"%Y-%m-%d %H:%M:%S\") + relativedelta(weeks=-op_period)).strftime(\"%Y-%m-%d %H:%M:%S\")\n",
    "        elif op == \"days\":\n",
    "            end_dt = (datetime.datetime.strptime(max_dt, \"%Y-%m-%d %H:%M:%S\") + relativedelta(days=-op_period)).strftime(\"%Y-%m-%d %H:%M:%S\")\n",
    "        else:\n",
    "            print(\"Wrong operation unit of time!\")\n",
    "            exit()\n",
    "        period = list(value.values >= end_dt)\n",
    "        return period\n",
    "    else:\n",
    "        return [True]*len(value.tolist())\n",
    "\n",
    "\n",
    "# 过去半年内工资增长趋势\n",
    "agg_agg_6m = bank[bank['工资收入标记'] == 1].groupby(\"new_user_id\")[\"交易金额\",\"交易时间\"]\n",
    "agg_agg_6m = agg_agg_6m.apply(lambda x: x[cust_period(x[\"交易时间\"], \"months\", 6)])\n",
    "agg_agg_6m = agg_agg_6m.groupby(\"new_user_id\")[\"交易金额\"].agg([\"sum\"])\n",
    "agg_agg_6m.columns = [\"6月内工资收入\"]\n",
    "agg_agg_6m.reset_index(inplace=True)\n",
    "agg_agg_3m = bank[bank['工资收入标记'] == 1].groupby(\"new_user_id\")[\"交易金额\",\"交易时间\"]\n",
    "agg_agg_3m = agg_agg_3m.apply(lambda x: x[cust_period(x[\"交易时间\"], \"months\", 3)])\n",
    "agg_agg_3m = agg_agg_3m.groupby(\"new_user_id\")[\"交易金额\"].agg([\"sum\"])\n",
    "agg_agg_3m.columns = [\"3月内工资收入\"]\n",
    "agg_agg_3m.reset_index(inplace=True)\n",
    "agg_tend_3m = pd.merge(agg_agg_6m, agg_agg_3m, how='left', on=['new_user_id'])\n",
    "agg_tend_3m[\"半年到3月前工资收入\"] = agg_tend_3m[\"6月内工资收入\"] - agg_tend_3m['3月内工资收入']\n",
    "def cal(x):\n",
    "    if x['3月内工资收入'] >= x['半年到3月前工资收入']:\n",
    "        return 1\n",
    "    return 0\n",
    "agg_tend_3m[\"过去半年内工资增长趋势\"] = agg_tend_3m.apply(cal, axis=1)\n",
    "\n",
    "\n",
    "# 过去半年内收入波动\n",
    "# 交易类型是 0 的为收入，1 是支出\n",
    "in_train = bank[bank['交易类型'] == 1]\n",
    "# 以月为单位统计标准差\n",
    "agg_agg_tot = in_train.groupby(\"new_user_id\")[['new_user_id']].agg('count')\n",
    "agg_agg_tot.columns = ['None']\n",
    "agg_agg_tot.reset_index(inplace=True)\n",
    "agg_agg_tot = agg_agg_tot[['new_user_id']]\n",
    "for i in range(1, 7):\n",
    "    agg_agg_ins = in_train.groupby(\"new_user_id\")[\"交易金额\",\"交易时间\"]\n",
    "    agg_agg_ins = agg_agg_ins .apply(lambda x: x[cust_period(x[\"交易时间\"], \"months\", i)])\n",
    "    agg_agg_ins = agg_agg_ins.groupby(\"new_user_id\")[\"交易金额\"].agg([\"sum\"])\n",
    "    agg_agg_ins.columns = [f\"{i}月内收入\"]\n",
    "    agg_agg_ins.reset_index(inplace=True)\n",
    "    agg_agg_tot = pd.merge(agg_agg_tot, agg_agg_ins, how='left', on=['new_user_id'])\n",
    "for i in range(2, 7):\n",
    "    agg_agg_tot[f'{i-1}到{i}月收入'] = agg_agg_tot[f\"{i}月内收入\"] - agg_agg_tot[f\"{i-1}月内收入\"]\n",
    "agg_agg_tot[f'{0}到{1}月收入'] = agg_agg_tot[f\"{1}月内收入\"]\n",
    "cols = [f'{i-1}到{i}月收入' for i in range(1, 7)]\n",
    "agg_agg_tot['过去半年内收入波动'] = agg_agg_tot.apply(lambda x: np.std([x[c] for c in cols]), axis=1)"
   ]
  },
  {
   "cell_type": "code",
   "execution_count": 17,
   "metadata": {},
   "outputs": [],
   "source": [
    "df = pd.merge(userinfo, overdue, on='new_user_id', how='left')\n",
    "df = pd.merge(df, agg_cormoney, on='new_user_id', how='left')\n",
    "df = pd.merge(df, agg_salary1, on='new_user_id', how='left')\n",
    "df = pd.merge(df, agg_cormoney1, on='new_user_id', how='left')\n",
    "df = pd.merge(df, agg_tend_3m[['new_user_id', '过去半年内工资增长趋势']], on='new_user_id', how='left')\n",
    "df = pd.merge(df, agg_agg_tot[['new_user_id', '过去半年内收入波动']], on='new_user_id', how='left')\n",
    "df = df.fillna(0)  # 填补空值"
   ]
  },
  {
   "cell_type": "code",
   "execution_count": 18,
   "metadata": {},
   "outputs": [
    {
     "data": {
      "text/html": [
       "<div>\n",
       "<style scoped>\n",
       "    .dataframe tbody tr th:only-of-type {\n",
       "        vertical-align: middle;\n",
       "    }\n",
       "\n",
       "    .dataframe tbody tr th {\n",
       "        vertical-align: top;\n",
       "    }\n",
       "\n",
       "    .dataframe thead th {\n",
       "        text-align: right;\n",
       "    }\n",
       "</style>\n",
       "<table border=\"1\" class=\"dataframe\">\n",
       "  <thead>\n",
       "    <tr style=\"text-align: right;\">\n",
       "      <th></th>\n",
       "      <th>new_user_id</th>\n",
       "      <th>性别</th>\n",
       "      <th>职业</th>\n",
       "      <th>教育程度</th>\n",
       "      <th>婚姻状态</th>\n",
       "      <th>户口类型</th>\n",
       "      <th>标签</th>\n",
       "      <th>分数</th>\n",
       "      <th>平均欠款金额</th>\n",
       "      <th>平均工资收入</th>\n",
       "      <th>平均还款比例</th>\n",
       "      <th>过去半年内工资增长趋势</th>\n",
       "      <th>过去半年内收入波动</th>\n",
       "    </tr>\n",
       "  </thead>\n",
       "  <tbody>\n",
       "    <tr>\n",
       "      <th>0</th>\n",
       "      <td>7259fe272934e0dc348092c37544a445</td>\n",
       "      <td>0</td>\n",
       "      <td>0</td>\n",
       "      <td>0</td>\n",
       "      <td>0</td>\n",
       "      <td>0</td>\n",
       "      <td>0</td>\n",
       "      <td>70.260853</td>\n",
       "      <td>0.234447</td>\n",
       "      <td>0.000000</td>\n",
       "      <td>1.004713</td>\n",
       "      <td>0.0</td>\n",
       "      <td>0.000000</td>\n",
       "    </tr>\n",
       "    <tr>\n",
       "      <th>1</th>\n",
       "      <td>0c87f6b1f7e0350a35841ba34df9d26a</td>\n",
       "      <td>1</td>\n",
       "      <td>0</td>\n",
       "      <td>0</td>\n",
       "      <td>1</td>\n",
       "      <td>0</td>\n",
       "      <td>1</td>\n",
       "      <td>22.963381</td>\n",
       "      <td>-11.344397</td>\n",
       "      <td>44.516465</td>\n",
       "      <td>0.779813</td>\n",
       "      <td>1.0</td>\n",
       "      <td>2002.211698</td>\n",
       "    </tr>\n",
       "    <tr>\n",
       "      <th>2</th>\n",
       "      <td>74c53a62f15cc039864aefc41170f81b</td>\n",
       "      <td>1</td>\n",
       "      <td>0</td>\n",
       "      <td>1</td>\n",
       "      <td>1</td>\n",
       "      <td>1</td>\n",
       "      <td>1</td>\n",
       "      <td>33.866533</td>\n",
       "      <td>-4.003015</td>\n",
       "      <td>46.546842</td>\n",
       "      <td>0.919712</td>\n",
       "      <td>0.0</td>\n",
       "      <td>561.297126</td>\n",
       "    </tr>\n",
       "    <tr>\n",
       "      <th>3</th>\n",
       "      <td>211f56f356fa6ecc6334bb73e52c7b16</td>\n",
       "      <td>1</td>\n",
       "      <td>1</td>\n",
       "      <td>2</td>\n",
       "      <td>1</td>\n",
       "      <td>2</td>\n",
       "      <td>0</td>\n",
       "      <td>80.170224</td>\n",
       "      <td>0.000000</td>\n",
       "      <td>0.000000</td>\n",
       "      <td>1.000000</td>\n",
       "      <td>0.0</td>\n",
       "      <td>0.000000</td>\n",
       "    </tr>\n",
       "    <tr>\n",
       "      <th>4</th>\n",
       "      <td>07b0d9ac7924424894141b2fecfa0ee0</td>\n",
       "      <td>1</td>\n",
       "      <td>0</td>\n",
       "      <td>0</td>\n",
       "      <td>2</td>\n",
       "      <td>0</td>\n",
       "      <td>0</td>\n",
       "      <td>73.980588</td>\n",
       "      <td>0.294647</td>\n",
       "      <td>0.000000</td>\n",
       "      <td>1.006083</td>\n",
       "      <td>0.0</td>\n",
       "      <td>0.000000</td>\n",
       "    </tr>\n",
       "  </tbody>\n",
       "</table>\n",
       "</div>"
      ],
      "text/plain": [
       "                        new_user_id  性别  职业  教育程度  婚姻状态  户口类型  标签         分数  \\\n",
       "0  7259fe272934e0dc348092c37544a445   0   0     0     0     0   0  70.260853   \n",
       "1  0c87f6b1f7e0350a35841ba34df9d26a   1   0     0     1     0   1  22.963381   \n",
       "2  74c53a62f15cc039864aefc41170f81b   1   0     1     1     1   1  33.866533   \n",
       "3  211f56f356fa6ecc6334bb73e52c7b16   1   1     2     1     2   0  80.170224   \n",
       "4  07b0d9ac7924424894141b2fecfa0ee0   1   0     0     2     0   0  73.980588   \n",
       "\n",
       "      平均欠款金额     平均工资收入    平均还款比例  过去半年内工资增长趋势    过去半年内收入波动  \n",
       "0   0.234447   0.000000  1.004713          0.0     0.000000  \n",
       "1 -11.344397  44.516465  0.779813          1.0  2002.211698  \n",
       "2  -4.003015  46.546842  0.919712          0.0   561.297126  \n",
       "3   0.000000   0.000000  1.000000          0.0     0.000000  \n",
       "4   0.294647   0.000000  1.006083          0.0     0.000000  "
      ]
     },
     "execution_count": 18,
     "metadata": {},
     "output_type": "execute_result"
    }
   ],
   "source": [
    "df.head()"
   ]
  },
  {
   "cell_type": "code",
   "execution_count": 21,
   "metadata": {},
   "outputs": [
    {
     "data": {
      "image/png": "[encoded data removed]",
      "text/plain": [
       "<Figure size 720x720 with 2 Axes>"
      ]
     },
     "metadata": {
      "needs_background": "light"
     },
     "output_type": "display_data"
    }
   ],
   "source": [
    "df_corr = df.corr()\n",
    "plt.figure(figsize=[10, 10])\n",
    "ax = sns.heatmap(df_corr,\n",
    "            xticklabels=df_corr.columns,\n",
    "            yticklabels=df_corr.columns,\n",
    "            annot = True,\n",
    "            fmt='.2f',\n",
    "            cmap =\"RdYlGn\")"
   ]
  },
  {
   "cell_type": "markdown",
   "metadata": {},
   "source": [
    "# 单变量预测"
   ]
  },
  {
   "cell_type": "code",
   "execution_count": 23,
   "metadata": {},
   "outputs": [
    {
     "name": "stdout",
     "output_type": "stream",
     "text": [
      "对“分数”列做回归任务，特征数量为 1 个， 均方差:97.1555\n"
     ]
    }
   ],
   "source": [
    "feats = ['平均工资收入']\n",
    "X_train, X_test, Y_train, Y_test = train_test_split(df[feats], df[['分数']], test_size=0.2)\n",
    "model = LinearRegression()\n",
    "model.fit(X_train, Y_train)\n",
    "Y_pred_val = model.predict(X_test)\n",
    "mse = mean_squared_error(Y_test, Y_pred_val)\n",
    "print(f'对“分数”列做回归任务，特征数量为 1 个， 均方差:{mse :.4f}')"
   ]
  },
  {
   "cell_type": "code",
   "execution_count": 24,
   "metadata": {},
   "outputs": [
    {
     "data": {
      "image/png": "[encoded data removed]",
      "text/plain": [
       "<Figure size 432x288 with 1 Axes>"
      ]
     },
     "metadata": {
      "needs_background": "light"
     },
     "output_type": "display_data"
    }
   ],
   "source": [
    "feats = ['平均工资收入']\n",
    "X_train, X_test, Y_train, Y_test = train_test_split(df[feats], df[['标签']], test_size=0.2)\n",
    "model = LogisticRegression()\n",
    "model.fit(X_train, Y_train)\n",
    "Y_pred = model.predict_proba(X_test)[:, 1]  # 各个测试样本 softmax ，用于计算 roc\n",
    "Y_pred_lab = model.predict(X_test)  # 各个测试样本预测出的标签\n",
    "fpr, tpr, thresholds = roc_curve(Y_test, Y_pred)\n",
    "roc_auc = auc(fpr, tpr)\n",
    "plt.plot([0, 1], [0, 1], 'k--')\n",
    "plt.plot(fpr, tpr)\n",
    "plt.title(f'auc:{roc_auc :.3f}, f1 socre:{f1_score(Y_test, Y_pred_lab) :.3f}')\n",
    "plt.show()"
   ]
  },
  {
   "cell_type": "markdown",
   "metadata": {},
   "source": [
    "# pca降维后回归"
   ]
  },
  {
   "cell_type": "code",
   "execution_count": 25,
   "metadata": {},
   "outputs": [],
   "source": [
    "new_userinfo = pd.get_dummies(df, columns=[\"性别\", \"职业\", \"教育程度\", \"婚姻状态\", \"户口类型\"])"
   ]
  },
  {
   "cell_type": "code",
   "execution_count": 26,
   "metadata": {},
   "outputs": [
    {
     "data": {
      "text/html": [
       "<div>\n",
       "<style scoped>\n",
       "    .dataframe tbody tr th:only-of-type {\n",
       "        vertical-align: middle;\n",
       "    }\n",
       "\n",
       "    .dataframe tbody tr th {\n",
       "        vertical-align: top;\n",
       "    }\n",
       "\n",
       "    .dataframe thead th {\n",
       "        text-align: right;\n",
       "    }\n",
       "</style>\n",
       "<table border=\"1\" class=\"dataframe\">\n",
       "  <thead>\n",
       "    <tr style=\"text-align: right;\">\n",
       "      <th></th>\n",
       "      <th>new_user_id</th>\n",
       "      <th>标签</th>\n",
       "      <th>分数</th>\n",
       "      <th>平均欠款金额</th>\n",
       "      <th>平均工资收入</th>\n",
       "      <th>平均还款比例</th>\n",
       "      <th>过去半年内工资增长趋势</th>\n",
       "      <th>过去半年内收入波动</th>\n",
       "      <th>性别_0</th>\n",
       "      <th>性别_1</th>\n",
       "      <th>...</th>\n",
       "      <th>婚姻状态_1</th>\n",
       "      <th>婚姻状态_2</th>\n",
       "      <th>婚姻状态_3</th>\n",
       "      <th>婚姻状态_4</th>\n",
       "      <th>婚姻状态_5</th>\n",
       "      <th>户口类型_0</th>\n",
       "      <th>户口类型_1</th>\n",
       "      <th>户口类型_2</th>\n",
       "      <th>户口类型_3</th>\n",
       "      <th>户口类型_4</th>\n",
       "    </tr>\n",
       "  </thead>\n",
       "  <tbody>\n",
       "    <tr>\n",
       "      <th>0</th>\n",
       "      <td>7259fe272934e0dc348092c37544a445</td>\n",
       "      <td>0</td>\n",
       "      <td>70.260853</td>\n",
       "      <td>0.234447</td>\n",
       "      <td>0.000000</td>\n",
       "      <td>1.004713</td>\n",
       "      <td>0.0</td>\n",
       "      <td>0.000000</td>\n",
       "      <td>1</td>\n",
       "      <td>0</td>\n",
       "      <td>...</td>\n",
       "      <td>0</td>\n",
       "      <td>0</td>\n",
       "      <td>0</td>\n",
       "      <td>0</td>\n",
       "      <td>0</td>\n",
       "      <td>1</td>\n",
       "      <td>0</td>\n",
       "      <td>0</td>\n",
       "      <td>0</td>\n",
       "      <td>0</td>\n",
       "    </tr>\n",
       "    <tr>\n",
       "      <th>1</th>\n",
       "      <td>0c87f6b1f7e0350a35841ba34df9d26a</td>\n",
       "      <td>1</td>\n",
       "      <td>22.963381</td>\n",
       "      <td>-11.344397</td>\n",
       "      <td>44.516465</td>\n",
       "      <td>0.779813</td>\n",
       "      <td>1.0</td>\n",
       "      <td>2002.211698</td>\n",
       "      <td>0</td>\n",
       "      <td>1</td>\n",
       "      <td>...</td>\n",
       "      <td>1</td>\n",
       "      <td>0</td>\n",
       "      <td>0</td>\n",
       "      <td>0</td>\n",
       "      <td>0</td>\n",
       "      <td>1</td>\n",
       "      <td>0</td>\n",
       "      <td>0</td>\n",
       "      <td>0</td>\n",
       "      <td>0</td>\n",
       "    </tr>\n",
       "    <tr>\n",
       "      <th>2</th>\n",
       "      <td>74c53a62f15cc039864aefc41170f81b</td>\n",
       "      <td>1</td>\n",
       "      <td>33.866533</td>\n",
       "      <td>-4.003015</td>\n",
       "      <td>46.546842</td>\n",
       "      <td>0.919712</td>\n",
       "      <td>0.0</td>\n",
       "      <td>561.297126</td>\n",
       "      <td>0</td>\n",
       "      <td>1</td>\n",
       "      <td>...</td>\n",
       "      <td>1</td>\n",
       "      <td>0</td>\n",
       "      <td>0</td>\n",
       "      <td>0</td>\n",
       "      <td>0</td>\n",
       "      <td>0</td>\n",
       "      <td>1</td>\n",
       "      <td>0</td>\n",
       "      <td>0</td>\n",
       "      <td>0</td>\n",
       "    </tr>\n",
       "    <tr>\n",
       "      <th>3</th>\n",
       "      <td>211f56f356fa6ecc6334bb73e52c7b16</td>\n",
       "      <td>0</td>\n",
       "      <td>80.170224</td>\n",
       "      <td>0.000000</td>\n",
       "      <td>0.000000</td>\n",
       "      <td>1.000000</td>\n",
       "      <td>0.0</td>\n",
       "      <td>0.000000</td>\n",
       "      <td>0</td>\n",
       "      <td>1</td>\n",
       "      <td>...</td>\n",
       "      <td>1</td>\n",
       "      <td>0</td>\n",
       "      <td>0</td>\n",
       "      <td>0</td>\n",
       "      <td>0</td>\n",
       "      <td>0</td>\n",
       "      <td>0</td>\n",
       "      <td>1</td>\n",
       "      <td>0</td>\n",
       "      <td>0</td>\n",
       "    </tr>\n",
       "    <tr>\n",
       "      <th>4</th>\n",
       "      <td>07b0d9ac7924424894141b2fecfa0ee0</td>\n",
       "      <td>0</td>\n",
       "      <td>73.980588</td>\n",
       "      <td>0.294647</td>\n",
       "      <td>0.000000</td>\n",
       "      <td>1.006083</td>\n",
       "      <td>0.0</td>\n",
       "      <td>0.000000</td>\n",
       "      <td>0</td>\n",
       "      <td>1</td>\n",
       "      <td>...</td>\n",
       "      <td>0</td>\n",
       "      <td>1</td>\n",
       "      <td>0</td>\n",
       "      <td>0</td>\n",
       "      <td>0</td>\n",
       "      <td>1</td>\n",
       "      <td>0</td>\n",
       "      <td>0</td>\n",
       "      <td>0</td>\n",
       "      <td>0</td>\n",
       "    </tr>\n",
       "  </tbody>\n",
       "</table>\n",
       "<p>5 rows × 32 columns</p>\n",
       "</div>"
      ],
      "text/plain": [
       "                        new_user_id  标签         分数     平均欠款金额     平均工资收入  \\\n",
       "0  7259fe272934e0dc348092c37544a445   0  70.260853   0.234447   0.000000   \n",
       "1  0c87f6b1f7e0350a35841ba34df9d26a   1  22.963381 -11.344397  44.516465   \n",
       "2  74c53a62f15cc039864aefc41170f81b   1  33.866533  -4.003015  46.546842   \n",
       "3  211f56f356fa6ecc6334bb73e52c7b16   0  80.170224   0.000000   0.000000   \n",
       "4  07b0d9ac7924424894141b2fecfa0ee0   0  73.980588   0.294647   0.000000   \n",
       "\n",
       "     平均还款比例  过去半年内工资增长趋势    过去半年内收入波动  性别_0  性别_1  ...  婚姻状态_1  婚姻状态_2  \\\n",
       "0  1.004713          0.0     0.000000     1     0  ...       0       0   \n",
       "1  0.779813          1.0  2002.211698     0     1  ...       1       0   \n",
       "2  0.919712          0.0   561.297126     0     1  ...       1       0   \n",
       "3  1.000000          0.0     0.000000     0     1  ...       1       0   \n",
       "4  1.006083          0.0     0.000000     0     1  ...       0       1   \n",
       "\n",
       "   婚姻状态_3  婚姻状态_4  婚姻状态_5  户口类型_0  户口类型_1  户口类型_2  户口类型_3  户口类型_4  \n",
       "0       0       0       0       1       0       0       0       0  \n",
       "1       0       0       0       1       0       0       0       0  \n",
       "2       0       0       0       0       1       0       0       0  \n",
       "3       0       0       0       0       0       1       0       0  \n",
       "4       0       0       0       1       0       0       0       0  \n",
       "\n",
       "[5 rows x 32 columns]"
      ]
     },
     "execution_count": 26,
     "metadata": {},
     "output_type": "execute_result"
    }
   ],
   "source": [
    "new_userinfo.head()"
   ]
  },
  {
   "cell_type": "code",
   "execution_count": 27,
   "metadata": {},
   "outputs": [],
   "source": [
    "x = new_userinfo.drop([\"new_user_id\", \"标签\", \"分数\"], axis=1)\n",
    "yr = new_userinfo[\"分数\"]\n",
    "yc = new_userinfo[\"标签\"]"
   ]
  },
  {
   "cell_type": "code",
   "execution_count": 28,
   "metadata": {},
   "outputs": [],
   "source": [
    "x_train, x_test, y_train, y_test = train_test_split(x, yr, test_size = 0.2, random_state = 77, shuffle = True)\n",
    "standard = StandardScaler()\n",
    "x_trs = standard.fit_transform(x_train)\n",
    "x_tes = standard.transform(x_test)"
   ]
  },
  {
   "cell_type": "markdown",
   "metadata": {},
   "source": [
    "## 降到5维"
   ]
  },
  {
   "cell_type": "code",
   "execution_count": 29,
   "metadata": {},
   "outputs": [
    {
     "name": "stdout",
     "output_type": "stream",
     "text": [
      "Total Explained Variance: 42.86%\n"
     ]
    }
   ],
   "source": [
    "pca = PCA(n_components=5)\n",
    "x_trp = pca.fit_transform(x_trs)\n",
    "x_tep = pca.transform(x_tes)\n",
    "print(f'Total Explained Variance: {pca.explained_variance_ratio_.sum() * 100:.2f}%')"
   ]
  },
  {
   "cell_type": "code",
   "execution_count": 30,
   "metadata": {},
   "outputs": [
    {
     "data": {
      "text/plain": [
       "Text(0, 0.5, '主成分')"
      ]
     },
     "execution_count": 30,
     "metadata": {},
     "output_type": "execute_result"
    },
    {
     "data": {
      "text/plain": [
       "<Figure size 1080x432 with 0 Axes>"
      ]
     },
     "metadata": {},
     "output_type": "display_data"
    },
    {
     "data": {
      "image/png": "[encoded data removed]",
      "text/plain": [
       "<Figure size 1152x198.621 with 2 Axes>"
      ]
     },
     "metadata": {
      "needs_background": "light"
     },
     "output_type": "display_data"
    }
   ],
   "source": [
    "plt.figure(figsize=(15,6))\n",
    "plt.matshow(pca.components_)\n",
    "plt.colorbar()\n",
    "# plt.xticks(range(len(list(x.columns))),x.columns)\n",
    "plt.xlabel('特征')\n",
    "plt.ylabel('主成分')"
   ]
  },
  {
   "cell_type": "code",
   "execution_count": 28,
   "metadata": {},
   "outputs": [
    {
     "name": "stdout",
     "output_type": "stream",
     "text": [
      "对“分数”列做回归任务， 均方差:93.5036\n"
     ]
    }
   ],
   "source": [
    "model = LinearRegression()\n",
    "model.fit(x_trp, y_train)\n",
    "Y_pred_val = model.predict(x_tep)\n",
    "mse = mean_squared_error(y_test, Y_pred_val)\n",
    "print(f'对“分数”列做回归任务， 均方差:{mse :.4f}')"
   ]
  },
  {
   "cell_type": "markdown",
   "metadata": {},
   "source": [
    "# 10维"
   ]
  },
  {
   "cell_type": "code",
   "execution_count": 31,
   "metadata": {},
   "outputs": [
    {
     "name": "stdout",
     "output_type": "stream",
     "text": [
      "Total Explained Variance: 67.14%\n"
     ]
    }
   ],
   "source": [
    "pca = PCA(n_components=10)\n",
    "x_trp = pca.fit_transform(x_trs)\n",
    "x_tep = pca.transform(x_tes)\n",
    "print(f'Total Explained Variance: {pca.explained_variance_ratio_.sum() * 100:.2f}%')"
   ]
  },
  {
   "cell_type": "code",
   "execution_count": 33,
   "metadata": {},
   "outputs": [
    {
     "data": {
      "text/plain": [
       "Text(0, 0.5, '主成分')"
      ]
     },
     "execution_count": 33,
     "metadata": {},
     "output_type": "execute_result"
    },
    {
     "data": {
      "text/plain": [
       "<Figure size 1080x432 with 0 Axes>"
      ]
     },
     "metadata": {},
     "output_type": "display_data"
    },
    {
     "data": {
      "image/png": "[encoded data removed]",
      "text/plain": [
       "<Figure size 835.2x288 with 2 Axes>"
      ]
     },
     "metadata": {
      "needs_background": "light"
     },
     "output_type": "display_data"
    }
   ],
   "source": [
    "plt.figure(figsize=(15,6))\n",
    "plt.matshow(pca.components_)\n",
    "plt.colorbar()\n",
    "# plt.xticks(range(len(list(x.columns))),x.columns)\n",
    "plt.xlabel('特征')\n",
    "plt.ylabel('主成分')"
   ]
  },
  {
   "cell_type": "code",
   "execution_count": 31,
   "metadata": {},
   "outputs": [
    {
     "name": "stdout",
     "output_type": "stream",
     "text": [
      "对“分数”列做回归任务， 均方差:80.8349\n"
     ]
    }
   ],
   "source": [
    "model = LinearRegression()\n",
    "model.fit(x_trp, y_train)\n",
    "Y_pred_val = model.predict(x_tep)\n",
    "mse = mean_squared_error(y_test, Y_pred_val)\n",
    "print(f'对“分数”列做回归任务， 均方差:{mse :.4f}')"
   ]
  },
  {
   "cell_type": "markdown",
   "metadata": {},
   "source": [
    "可以看到，随着维数的增加，特征中包含的信息增多，回归的均方差变小"
   ]
  },
  {
   "cell_type": "markdown",
   "metadata": {},
   "source": [
    "# 使用pca降维后分类"
   ]
  },
  {
   "cell_type": "code",
   "execution_count": 34,
   "metadata": {},
   "outputs": [],
   "source": [
    "x_train, x_test, y_train, y_test = train_test_split(x, yc, test_size = 0.2, random_state = 77, shuffle = True)\n",
    "standard = StandardScaler()\n",
    "x_trs = standard.fit_transform(x_train)\n",
    "x_tes = standard.transform(x_test)"
   ]
  },
  {
   "cell_type": "code",
   "execution_count": 35,
   "metadata": {},
   "outputs": [
    {
     "name": "stdout",
     "output_type": "stream",
     "text": [
      "Total Explained Variance: 67.14%\n"
     ]
    }
   ],
   "source": [
    "pca = PCA(n_components=10)\n",
    "x_trp = pca.fit_transform(x_trs)\n",
    "x_tep = pca.transform(x_tes)\n",
    "print(f'Total Explained Variance: {pca.explained_variance_ratio_.sum() * 100:.2f}%')"
   ]
  },
  {
   "cell_type": "code",
   "execution_count": 36,
   "metadata": {},
   "outputs": [
    {
     "data": {
      "text/plain": [
       "{'C': 2.0}"
      ]
     },
     "execution_count": 36,
     "metadata": {},
     "output_type": "execute_result"
    }
   ],
   "source": [
    "LogReg = LogisticRegression(random_state=7)\n",
    "parameters = {'C': [0.1 ,2.0, 5.0, 10.0, 15.0, 20.0]}\n",
    "log_regressor = GridSearchCV(LogReg, parameters, scoring='neg_mean_squared_error' ,cv =5)\n",
    "log_regressor.fit(x_trp, y_train)\n",
    "log_regressor.best_params_"
   ]
  },
  {
   "cell_type": "code",
   "execution_count": 38,
   "metadata": {},
   "outputs": [
    {
     "data": {
      "text/plain": [
       "Text(0, 0.5, '主成分')"
      ]
     },
     "execution_count": 38,
     "metadata": {},
     "output_type": "execute_result"
    },
    {
     "data": {
      "text/plain": [
       "<Figure size 1080x432 with 0 Axes>"
      ]
     },
     "metadata": {},
     "output_type": "display_data"
    },
    {
     "data": {
      "image/png": "[encoded data removed]",
      "text/plain": [
       "<Figure size 835.2x288 with 2 Axes>"
      ]
     },
     "metadata": {
      "needs_background": "light"
     },
     "output_type": "display_data"
    }
   ],
   "source": [
    "plt.figure(figsize=(15,6))\n",
    "plt.matshow(pca.components_)\n",
    "plt.colorbar()\n",
    "# plt.xticks(range(len(list(x.columns))),x.columns)\n",
    "plt.xlabel('特征')\n",
    "plt.ylabel('主成分')"
   ]
  },
  {
   "cell_type": "code",
   "execution_count": 36,
   "metadata": {},
   "outputs": [
    {
     "data": {
      "image/png": "[encoded data removed]",
      "text/plain": [
       "<Figure size 432x288 with 1 Axes>"
      ]
     },
     "metadata": {
      "needs_background": "light"
     },
     "output_type": "display_data"
    }
   ],
   "source": [
    "model = LogisticRegression(C=2.0)\n",
    "model.fit(x_trp, y_train)\n",
    "Y_pred = model.predict_proba(x_tep)[:, 1]  # 各个测试样本 softmax ，用于计算 roc\n",
    "Y_pred_lab = model.predict(x_tep)  # 各个测试样本预测出的标签\n",
    "fpr, tpr, thresholds = roc_curve(Y_test, Y_pred)\n",
    "roc_auc = auc(fpr, tpr)\n",
    "plt.plot([0, 1], [0, 1], 'k--')\n",
    "plt.plot(fpr, tpr)\n",
    "plt.title(f'auc:{roc_auc :.3f}, f1 socre:{f1_score(Y_test, Y_pred_lab) :.3f}')\n",
    "plt.show()"
   ]
  },
  {
   "cell_type": "code",
   "execution_count": 39,
   "metadata": {},
   "outputs": [
    {
     "name": "stdout",
     "output_type": "stream",
     "text": [
      "Total Explained Variance: 29.88%\n"
     ]
    }
   ],
   "source": [
    "pca = PCA(n_components=3)\n",
    "x_trp = pca.fit_transform(x_trs)\n",
    "x_tep = pca.transform(x_tes)\n",
    "print(f'Total Explained Variance: {pca.explained_variance_ratio_.sum() * 100:.2f}%')"
   ]
  },
  {
   "cell_type": "code",
   "execution_count": 40,
   "metadata": {},
   "outputs": [
    {
     "data": {
      "text/plain": [
       "Text(0, 0.5, '主成分')"
      ]
     },
     "execution_count": 40,
     "metadata": {},
     "output_type": "execute_result"
    },
    {
     "data": {
      "text/plain": [
       "<Figure size 1080x432 with 0 Axes>"
      ]
     },
     "metadata": {},
     "output_type": "display_data"
    },
    {
     "data": {
      "image/png": "[encoded data removed]",
      "text/plain": [
       "<Figure size 1152x144 with 2 Axes>"
      ]
     },
     "metadata": {
      "needs_background": "light"
     },
     "output_type": "display_data"
    }
   ],
   "source": [
    "plt.figure(figsize=(15,6))\n",
    "plt.matshow(pca.components_)\n",
    "plt.colorbar()\n",
    "# plt.xticks(range(len(list(x.columns))),x.columns)\n",
    "plt.xlabel('特征')\n",
    "plt.ylabel('主成分')"
   ]
  },
  {
   "cell_type": "code",
   "execution_count": 39,
   "metadata": {},
   "outputs": [
    {
     "data": {
      "text/plain": [
       "{'C': 2.0}"
      ]
     },
     "execution_count": 39,
     "metadata": {},
     "output_type": "execute_result"
    }
   ],
   "source": [
    "LogReg = LogisticRegression(random_state=7)\n",
    "parameters = {'C': [0.1 ,2.0, 5.0, 10.0, 15.0, 20.0]}\n",
    "log_regressor = GridSearchCV(LogReg, parameters, scoring='neg_mean_squared_error' ,cv =5)\n",
    "log_regressor.fit(x_trp, y_train)\n",
    "log_regressor.best_params_"
   ]
  },
  {
   "cell_type": "code",
   "execution_count": 40,
   "metadata": {},
   "outputs": [
    {
     "data": {
      "image/png": "[encoded data removed]",
      "text/plain": [
       "<Figure size 432x288 with 1 Axes>"
      ]
     },
     "metadata": {
      "needs_background": "light"
     },
     "output_type": "display_data"
    }
   ],
   "source": [
    "model = LogisticRegression(C=2.0)\n",
    "model.fit(x_trp, y_train)\n",
    "Y_pred = model.predict_proba(x_tep)[:, 1]  # 各个测试样本 softmax ，用于计算 roc\n",
    "Y_pred_lab = model.predict(x_tep)  # 各个测试样本预测出的标签\n",
    "fpr, tpr, thresholds = roc_curve(Y_test, Y_pred)\n",
    "roc_auc = auc(fpr, tpr)\n",
    "plt.plot([0, 1], [0, 1], 'k--')\n",
    "plt.plot(fpr, tpr)\n",
    "plt.title(f'auc:{roc_auc :.3f}, f1 socre:{f1_score(Y_test, Y_pred_lab) :.3f}')\n",
    "plt.show()"
   ]
  },
  {
   "cell_type": "code",
   "execution_count": 43,
   "metadata": {},
   "outputs": [
    {
     "ename": "ValueError",
     "evalue": "'r' is not a valid value for name; supported values are 'Accent', 'Accent_r', 'Blues', 'Blues_r', 'BrBG', 'BrBG_r', 'BuGn', 'BuGn_r', 'BuPu', 'BuPu_r', 'CMRmap', 'CMRmap_r', 'Dark2', 'Dark2_r', 'GnBu', 'GnBu_r', 'Greens', 'Greens_r', 'Greys', 'Greys_r', 'OrRd', 'OrRd_r', 'Oranges', 'Oranges_r', 'PRGn', 'PRGn_r', 'Paired', 'Paired_r', 'Pastel1', 'Pastel1_r', 'Pastel2', 'Pastel2_r', 'PiYG', 'PiYG_r', 'PuBu', 'PuBuGn', 'PuBuGn_r', 'PuBu_r', 'PuOr', 'PuOr_r', 'PuRd', 'PuRd_r', 'Purples', 'Purples_r', 'RdBu', 'RdBu_r', 'RdGy', 'RdGy_r', 'RdPu', 'RdPu_r', 'RdYlBu', 'RdYlBu_r', 'RdYlGn', 'RdYlGn_r', 'Reds', 'Reds_r', 'Set1', 'Set1_r', 'Set2', 'Set2_r', 'Set3', 'Set3_r', 'Spectral', 'Spectral_r', 'Wistia', 'Wistia_r', 'YlGn', 'YlGnBu', 'YlGnBu_r', 'YlGn_r', 'YlOrBr', 'YlOrBr_r', 'YlOrRd', 'YlOrRd_r', 'afmhot', 'afmhot_r', 'autumn', 'autumn_r', 'binary', 'binary_r', 'bone', 'bone_r', 'brg', 'brg_r', 'bwr', 'bwr_r', 'cividis', 'cividis_r', 'cool', 'cool_r', 'coolwarm', 'coolwarm_r', 'copper', 'copper_r', 'crest', 'crest_r', 'cubehelix', 'cubehelix_r', 'flag', 'flag_r', 'flare', 'flare_r', 'gist_earth', 'gist_earth_r', 'gist_gray', 'gist_gray_r', 'gist_heat', 'gist_heat_r', 'gist_ncar', 'gist_ncar_r', 'gist_rainbow', 'gist_rainbow_r', 'gist_stern', 'gist_stern_r', 'gist_yarg', 'gist_yarg_r', 'gnuplot', 'gnuplot2', 'gnuplot2_r', 'gnuplot_r', 'gray', 'gray_r', 'hot', 'hot_r', 'hsv', 'hsv_r', 'icefire', 'icefire_r', 'inferno', 'inferno_r', 'jet', 'jet_r', 'magma', 'magma_r', 'mako', 'mako_r', 'nipy_spectral', 'nipy_spectral_r', 'ocean', 'ocean_r', 'pink', 'pink_r', 'plasma', 'plasma_r', 'prism', 'prism_r', 'rainbow', 'rainbow_r', 'rocket', 'rocket_r', 'seismic', 'seismic_r', 'spring', 'spring_r', 'summer', 'summer_r', 'tab10', 'tab10_r', 'tab20', 'tab20_r', 'tab20b', 'tab20b_r', 'tab20c', 'tab20c_r', 'terrain', 'terrain_r', 'turbo', 'turbo_r', 'twilight', 'twilight_r', 'twilight_shifted', 'twilight_shifted_r', 'viridis', 'viridis_r', 'vlag', 'vlag_r', 'winter', 'winter_r'",
     "output_type": "error",
     "traceback": [
      "\u001b[1;31m---------------------------------------------------------------------------\u001b[0m",
      "\u001b[1;31mValueError\u001b[0m                                Traceback (most recent call last)",
      "\u001b[1;32m~\\AppData\\Local\\Temp/ipykernel_10008/2180339026.py\u001b[0m in \u001b[0;36m<module>\u001b[1;34m\u001b[0m\n\u001b[0;32m      5\u001b[0m \u001b[0max\u001b[0m \u001b[1;33m=\u001b[0m \u001b[0mAxes3D\u001b[0m\u001b[1;33m(\u001b[0m\u001b[0mfig\u001b[0m\u001b[1;33m,\u001b[0m \u001b[0mrect\u001b[0m\u001b[1;33m=\u001b[0m\u001b[1;33m[\u001b[0m\u001b[1;36m0\u001b[0m\u001b[1;33m,\u001b[0m \u001b[1;36m0\u001b[0m\u001b[1;33m,\u001b[0m \u001b[1;36m.95\u001b[0m\u001b[1;33m,\u001b[0m \u001b[1;36m1\u001b[0m\u001b[1;33m]\u001b[0m\u001b[1;33m,\u001b[0m \u001b[0melev\u001b[0m\u001b[1;33m=\u001b[0m\u001b[1;36m48\u001b[0m\u001b[1;33m,\u001b[0m \u001b[0mazim\u001b[0m\u001b[1;33m=\u001b[0m\u001b[1;36m134\u001b[0m\u001b[1;33m)\u001b[0m\u001b[1;33m\u001b[0m\u001b[1;33m\u001b[0m\u001b[0m\n\u001b[0;32m      6\u001b[0m \u001b[1;33m\u001b[0m\u001b[0m\n\u001b[1;32m----> 7\u001b[1;33m \u001b[0max\u001b[0m\u001b[1;33m.\u001b[0m\u001b[0mscatter\u001b[0m\u001b[1;33m(\u001b[0m\u001b[0mtmp\u001b[0m\u001b[1;33m[\u001b[0m\u001b[1;33m:\u001b[0m\u001b[1;33m,\u001b[0m \u001b[1;36m0\u001b[0m\u001b[1;33m]\u001b[0m\u001b[1;33m,\u001b[0m \u001b[0mtmp\u001b[0m\u001b[1;33m[\u001b[0m\u001b[1;33m:\u001b[0m\u001b[1;33m,\u001b[0m \u001b[1;36m1\u001b[0m\u001b[1;33m]\u001b[0m\u001b[1;33m,\u001b[0m \u001b[0mtmp\u001b[0m\u001b[1;33m[\u001b[0m\u001b[1;33m:\u001b[0m\u001b[1;33m,\u001b[0m \u001b[1;36m2\u001b[0m\u001b[1;33m]\u001b[0m\u001b[1;33m,\u001b[0m \u001b[0mc\u001b[0m\u001b[1;33m=\u001b[0m\u001b[0my_train\u001b[0m\u001b[1;33m,\u001b[0m \u001b[0mcmap\u001b[0m\u001b[1;33m=\u001b[0m\u001b[1;34m\"r\"\u001b[0m\u001b[1;33m)\u001b[0m\u001b[1;33m\u001b[0m\u001b[1;33m\u001b[0m\u001b[0m\n\u001b[0m\u001b[0;32m      8\u001b[0m \u001b[1;33m\u001b[0m\u001b[0m\n\u001b[0;32m      9\u001b[0m \u001b[0max\u001b[0m\u001b[1;33m.\u001b[0m\u001b[0mw_xaxis\u001b[0m\u001b[1;33m.\u001b[0m\u001b[0mset_ticklabels\u001b[0m\u001b[1;33m(\u001b[0m\u001b[1;33m[\u001b[0m\u001b[1;33m]\u001b[0m\u001b[1;33m)\u001b[0m\u001b[1;33m\u001b[0m\u001b[1;33m\u001b[0m\u001b[0m\n",
      "\u001b[1;32mD:\\ProgramData\\Miniconda3\\envs\\ml\\lib\\site-packages\\mpl_toolkits\\mplot3d\\axes3d.py\u001b[0m in \u001b[0;36mscatter\u001b[1;34m(self, xs, ys, zs, zdir, s, c, depthshade, *args, **kwargs)\u001b[0m\n\u001b[0;32m   2414\u001b[0m             \u001b[0mzs\u001b[0m \u001b[1;33m=\u001b[0m \u001b[0mzs\u001b[0m\u001b[1;33m.\u001b[0m\u001b[0mcopy\u001b[0m\u001b[1;33m(\u001b[0m\u001b[1;33m)\u001b[0m\u001b[1;33m\u001b[0m\u001b[1;33m\u001b[0m\u001b[0m\n\u001b[0;32m   2415\u001b[0m \u001b[1;33m\u001b[0m\u001b[0m\n\u001b[1;32m-> 2416\u001b[1;33m         \u001b[0mpatches\u001b[0m \u001b[1;33m=\u001b[0m \u001b[0msuper\u001b[0m\u001b[1;33m(\u001b[0m\u001b[1;33m)\u001b[0m\u001b[1;33m.\u001b[0m\u001b[0mscatter\u001b[0m\u001b[1;33m(\u001b[0m\u001b[0mxs\u001b[0m\u001b[1;33m,\u001b[0m \u001b[0mys\u001b[0m\u001b[1;33m,\u001b[0m \u001b[0ms\u001b[0m\u001b[1;33m=\u001b[0m\u001b[0ms\u001b[0m\u001b[1;33m,\u001b[0m \u001b[0mc\u001b[0m\u001b[1;33m=\u001b[0m\u001b[0mc\u001b[0m\u001b[1;33m,\u001b[0m \u001b[1;33m*\u001b[0m\u001b[0margs\u001b[0m\u001b[1;33m,\u001b[0m \u001b[1;33m**\u001b[0m\u001b[0mkwargs\u001b[0m\u001b[1;33m)\u001b[0m\u001b[1;33m\u001b[0m\u001b[1;33m\u001b[0m\u001b[0m\n\u001b[0m\u001b[0;32m   2417\u001b[0m         art3d.patch_collection_2d_to_3d(patches, zs=zs, zdir=zdir,\n\u001b[0;32m   2418\u001b[0m                                         depthshade=depthshade)\n",
      "\u001b[1;32mD:\\ProgramData\\Miniconda3\\envs\\ml\\lib\\site-packages\\matplotlib\\__init__.py\u001b[0m in \u001b[0;36minner\u001b[1;34m(ax, data, *args, **kwargs)\u001b[0m\n\u001b[0;32m   1359\u001b[0m     \u001b[1;32mdef\u001b[0m \u001b[0minner\u001b[0m\u001b[1;33m(\u001b[0m\u001b[0max\u001b[0m\u001b[1;33m,\u001b[0m \u001b[1;33m*\u001b[0m\u001b[0margs\u001b[0m\u001b[1;33m,\u001b[0m \u001b[0mdata\u001b[0m\u001b[1;33m=\u001b[0m\u001b[1;32mNone\u001b[0m\u001b[1;33m,\u001b[0m \u001b[1;33m**\u001b[0m\u001b[0mkwargs\u001b[0m\u001b[1;33m)\u001b[0m\u001b[1;33m:\u001b[0m\u001b[1;33m\u001b[0m\u001b[1;33m\u001b[0m\u001b[0m\n\u001b[0;32m   1360\u001b[0m         \u001b[1;32mif\u001b[0m \u001b[0mdata\u001b[0m \u001b[1;32mis\u001b[0m \u001b[1;32mNone\u001b[0m\u001b[1;33m:\u001b[0m\u001b[1;33m\u001b[0m\u001b[1;33m\u001b[0m\u001b[0m\n\u001b[1;32m-> 1361\u001b[1;33m             \u001b[1;32mreturn\u001b[0m \u001b[0mfunc\u001b[0m\u001b[1;33m(\u001b[0m\u001b[0max\u001b[0m\u001b[1;33m,\u001b[0m \u001b[1;33m*\u001b[0m\u001b[0mmap\u001b[0m\u001b[1;33m(\u001b[0m\u001b[0msanitize_sequence\u001b[0m\u001b[1;33m,\u001b[0m \u001b[0margs\u001b[0m\u001b[1;33m)\u001b[0m\u001b[1;33m,\u001b[0m \u001b[1;33m**\u001b[0m\u001b[0mkwargs\u001b[0m\u001b[1;33m)\u001b[0m\u001b[1;33m\u001b[0m\u001b[1;33m\u001b[0m\u001b[0m\n\u001b[0m\u001b[0;32m   1362\u001b[0m \u001b[1;33m\u001b[0m\u001b[0m\n\u001b[0;32m   1363\u001b[0m         \u001b[0mbound\u001b[0m \u001b[1;33m=\u001b[0m \u001b[0mnew_sig\u001b[0m\u001b[1;33m.\u001b[0m\u001b[0mbind\u001b[0m\u001b[1;33m(\u001b[0m\u001b[0max\u001b[0m\u001b[1;33m,\u001b[0m \u001b[1;33m*\u001b[0m\u001b[0margs\u001b[0m\u001b[1;33m,\u001b[0m \u001b[1;33m**\u001b[0m\u001b[0mkwargs\u001b[0m\u001b[1;33m)\u001b[0m\u001b[1;33m\u001b[0m\u001b[1;33m\u001b[0m\u001b[0m\n",
      "\u001b[1;32mD:\\ProgramData\\Miniconda3\\envs\\ml\\lib\\site-packages\\matplotlib\\axes\\_axes.py\u001b[0m in \u001b[0;36mscatter\u001b[1;34m(self, x, y, s, c, marker, cmap, norm, vmin, vmax, alpha, linewidths, edgecolors, plotnonfinite, **kwargs)\u001b[0m\n\u001b[0;32m   4599\u001b[0m         \u001b[1;32mif\u001b[0m \u001b[0mcolors\u001b[0m \u001b[1;32mis\u001b[0m \u001b[1;32mNone\u001b[0m\u001b[1;33m:\u001b[0m\u001b[1;33m\u001b[0m\u001b[1;33m\u001b[0m\u001b[0m\n\u001b[0;32m   4600\u001b[0m             \u001b[0mcollection\u001b[0m\u001b[1;33m.\u001b[0m\u001b[0mset_array\u001b[0m\u001b[1;33m(\u001b[0m\u001b[0mc\u001b[0m\u001b[1;33m)\u001b[0m\u001b[1;33m\u001b[0m\u001b[1;33m\u001b[0m\u001b[0m\n\u001b[1;32m-> 4601\u001b[1;33m             \u001b[0mcollection\u001b[0m\u001b[1;33m.\u001b[0m\u001b[0mset_cmap\u001b[0m\u001b[1;33m(\u001b[0m\u001b[0mcmap\u001b[0m\u001b[1;33m)\u001b[0m\u001b[1;33m\u001b[0m\u001b[1;33m\u001b[0m\u001b[0m\n\u001b[0m\u001b[0;32m   4602\u001b[0m             \u001b[0mcollection\u001b[0m\u001b[1;33m.\u001b[0m\u001b[0mset_norm\u001b[0m\u001b[1;33m(\u001b[0m\u001b[0mnorm\u001b[0m\u001b[1;33m)\u001b[0m\u001b[1;33m\u001b[0m\u001b[1;33m\u001b[0m\u001b[0m\n\u001b[0;32m   4603\u001b[0m             \u001b[0mcollection\u001b[0m\u001b[1;33m.\u001b[0m\u001b[0m_scale_norm\u001b[0m\u001b[1;33m(\u001b[0m\u001b[0mnorm\u001b[0m\u001b[1;33m,\u001b[0m \u001b[0mvmin\u001b[0m\u001b[1;33m,\u001b[0m \u001b[0mvmax\u001b[0m\u001b[1;33m)\u001b[0m\u001b[1;33m\u001b[0m\u001b[1;33m\u001b[0m\u001b[0m\n",
      "\u001b[1;32mD:\\ProgramData\\Miniconda3\\envs\\ml\\lib\\site-packages\\matplotlib\\cm.py\u001b[0m in \u001b[0;36mset_cmap\u001b[1;34m(self, cmap)\u001b[0m\n\u001b[0;32m    430\u001b[0m         \"\"\"\n\u001b[0;32m    431\u001b[0m         \u001b[0min_init\u001b[0m \u001b[1;33m=\u001b[0m \u001b[0mself\u001b[0m\u001b[1;33m.\u001b[0m\u001b[0mcmap\u001b[0m \u001b[1;32mis\u001b[0m \u001b[1;32mNone\u001b[0m\u001b[1;33m\u001b[0m\u001b[1;33m\u001b[0m\u001b[0m\n\u001b[1;32m--> 432\u001b[1;33m         \u001b[0mcmap\u001b[0m \u001b[1;33m=\u001b[0m \u001b[0mget_cmap\u001b[0m\u001b[1;33m(\u001b[0m\u001b[0mcmap\u001b[0m\u001b[1;33m)\u001b[0m\u001b[1;33m\u001b[0m\u001b[1;33m\u001b[0m\u001b[0m\n\u001b[0m\u001b[0;32m    433\u001b[0m         \u001b[0mself\u001b[0m\u001b[1;33m.\u001b[0m\u001b[0mcmap\u001b[0m \u001b[1;33m=\u001b[0m \u001b[0mcmap\u001b[0m\u001b[1;33m\u001b[0m\u001b[1;33m\u001b[0m\u001b[0m\n\u001b[0;32m    434\u001b[0m         \u001b[1;32mif\u001b[0m \u001b[1;32mnot\u001b[0m \u001b[0min_init\u001b[0m\u001b[1;33m:\u001b[0m\u001b[1;33m\u001b[0m\u001b[1;33m\u001b[0m\u001b[0m\n",
      "\u001b[1;32mD:\\ProgramData\\Miniconda3\\envs\\ml\\lib\\site-packages\\matplotlib\\cm.py\u001b[0m in \u001b[0;36mget_cmap\u001b[1;34m(name, lut)\u001b[0m\n\u001b[0;32m    188\u001b[0m     \u001b[1;32mif\u001b[0m \u001b[0misinstance\u001b[0m\u001b[1;33m(\u001b[0m\u001b[0mname\u001b[0m\u001b[1;33m,\u001b[0m \u001b[0mcolors\u001b[0m\u001b[1;33m.\u001b[0m\u001b[0mColormap\u001b[0m\u001b[1;33m)\u001b[0m\u001b[1;33m:\u001b[0m\u001b[1;33m\u001b[0m\u001b[1;33m\u001b[0m\u001b[0m\n\u001b[0;32m    189\u001b[0m         \u001b[1;32mreturn\u001b[0m \u001b[0mname\u001b[0m\u001b[1;33m\u001b[0m\u001b[1;33m\u001b[0m\u001b[0m\n\u001b[1;32m--> 190\u001b[1;33m     \u001b[0m_api\u001b[0m\u001b[1;33m.\u001b[0m\u001b[0mcheck_in_list\u001b[0m\u001b[1;33m(\u001b[0m\u001b[0msorted\u001b[0m\u001b[1;33m(\u001b[0m\u001b[0m_cmap_registry\u001b[0m\u001b[1;33m)\u001b[0m\u001b[1;33m,\u001b[0m \u001b[0mname\u001b[0m\u001b[1;33m=\u001b[0m\u001b[0mname\u001b[0m\u001b[1;33m)\u001b[0m\u001b[1;33m\u001b[0m\u001b[1;33m\u001b[0m\u001b[0m\n\u001b[0m\u001b[0;32m    191\u001b[0m     \u001b[1;32mif\u001b[0m \u001b[0mlut\u001b[0m \u001b[1;32mis\u001b[0m \u001b[1;32mNone\u001b[0m\u001b[1;33m:\u001b[0m\u001b[1;33m\u001b[0m\u001b[1;33m\u001b[0m\u001b[0m\n\u001b[0;32m    192\u001b[0m         \u001b[1;32mreturn\u001b[0m \u001b[0m_cmap_registry\u001b[0m\u001b[1;33m[\u001b[0m\u001b[0mname\u001b[0m\u001b[1;33m]\u001b[0m\u001b[1;33m\u001b[0m\u001b[1;33m\u001b[0m\u001b[0m\n",
      "\u001b[1;32mD:\\ProgramData\\Miniconda3\\envs\\ml\\lib\\site-packages\\matplotlib\\_api\\__init__.py\u001b[0m in \u001b[0;36mcheck_in_list\u001b[1;34m(_values, _print_supported_values, **kwargs)\u001b[0m\n\u001b[0;32m    124\u001b[0m         \u001b[1;32mif\u001b[0m \u001b[0mval\u001b[0m \u001b[1;32mnot\u001b[0m \u001b[1;32min\u001b[0m \u001b[0mvalues\u001b[0m\u001b[1;33m:\u001b[0m\u001b[1;33m\u001b[0m\u001b[1;33m\u001b[0m\u001b[0m\n\u001b[0;32m    125\u001b[0m             \u001b[1;32mif\u001b[0m \u001b[0m_print_supported_values\u001b[0m\u001b[1;33m:\u001b[0m\u001b[1;33m\u001b[0m\u001b[1;33m\u001b[0m\u001b[0m\n\u001b[1;32m--> 126\u001b[1;33m                 raise ValueError(\n\u001b[0m\u001b[0;32m    127\u001b[0m                     \u001b[1;34mf\"{val!r} is not a valid value for {key}; \"\u001b[0m\u001b[1;33m\u001b[0m\u001b[1;33m\u001b[0m\u001b[0m\n\u001b[0;32m    128\u001b[0m                     f\"supported values are {', '.join(map(repr, values))}\")\n",
      "\u001b[1;31mValueError\u001b[0m: 'r' is not a valid value for name; supported values are 'Accent', 'Accent_r', 'Blues', 'Blues_r', 'BrBG', 'BrBG_r', 'BuGn', 'BuGn_r', 'BuPu', 'BuPu_r', 'CMRmap', 'CMRmap_r', 'Dark2', 'Dark2_r', 'GnBu', 'GnBu_r', 'Greens', 'Greens_r', 'Greys', 'Greys_r', 'OrRd', 'OrRd_r', 'Oranges', 'Oranges_r', 'PRGn', 'PRGn_r', 'Paired', 'Paired_r', 'Pastel1', 'Pastel1_r', 'Pastel2', 'Pastel2_r', 'PiYG', 'PiYG_r', 'PuBu', 'PuBuGn', 'PuBuGn_r', 'PuBu_r', 'PuOr', 'PuOr_r', 'PuRd', 'PuRd_r', 'Purples', 'Purples_r', 'RdBu', 'RdBu_r', 'RdGy', 'RdGy_r', 'RdPu', 'RdPu_r', 'RdYlBu', 'RdYlBu_r', 'RdYlGn', 'RdYlGn_r', 'Reds', 'Reds_r', 'Set1', 'Set1_r', 'Set2', 'Set2_r', 'Set3', 'Set3_r', 'Spectral', 'Spectral_r', 'Wistia', 'Wistia_r', 'YlGn', 'YlGnBu', 'YlGnBu_r', 'YlGn_r', 'YlOrBr', 'YlOrBr_r', 'YlOrRd', 'YlOrRd_r', 'afmhot', 'afmhot_r', 'autumn', 'autumn_r', 'binary', 'binary_r', 'bone', 'bone_r', 'brg', 'brg_r', 'bwr', 'bwr_r', 'cividis', 'cividis_r', 'cool', 'cool_r', 'coolwarm', 'coolwarm_r', 'copper', 'copper_r', 'crest', 'crest_r', 'cubehelix', 'cubehelix_r', 'flag', 'flag_r', 'flare', 'flare_r', 'gist_earth', 'gist_earth_r', 'gist_gray', 'gist_gray_r', 'gist_heat', 'gist_heat_r', 'gist_ncar', 'gist_ncar_r', 'gist_rainbow', 'gist_rainbow_r', 'gist_stern', 'gist_stern_r', 'gist_yarg', 'gist_yarg_r', 'gnuplot', 'gnuplot2', 'gnuplot2_r', 'gnuplot_r', 'gray', 'gray_r', 'hot', 'hot_r', 'hsv', 'hsv_r', 'icefire', 'icefire_r', 'inferno', 'inferno_r', 'jet', 'jet_r', 'magma', 'magma_r', 'mako', 'mako_r', 'nipy_spectral', 'nipy_spectral_r', 'ocean', 'ocean_r', 'pink', 'pink_r', 'plasma', 'plasma_r', 'prism', 'prism_r', 'rainbow', 'rainbow_r', 'rocket', 'rocket_r', 'seismic', 'seismic_r', 'spring', 'spring_r', 'summer', 'summer_r', 'tab10', 'tab10_r', 'tab20', 'tab20_r', 'tab20b', 'tab20b_r', 'tab20c', 'tab20c_r', 'terrain', 'terrain_r', 'turbo', 'turbo_r', 'twilight', 'twilight_r', 'twilight_shifted', 'twilight_shifted_r', 'viridis', 'viridis_r', 'vlag', 'vlag_r', 'winter', 'winter_r'"
     ]
    },
    {
     "data": {
      "image/png": "[encoded data removed]",
      "text/plain": [
       "<Figure size 288x216 with 1 Axes>"
      ]
     },
     "metadata": {
      "needs_background": "light"
     },
     "output_type": "display_data"
    }
   ],
   "source": [
    "tmp=np.c_[x_trs, y_train]\n",
    "tmp_1=tmp[tmp[:,3]==0]\n",
    "tmp_2=tmp[tmp[:,3]==1]\n",
    "fig = plt.figure(figsize=(4, 3))\n",
    "ax = Axes3D(fig, rect=[0, 0, .95, 1], elev=48, azim=134)\n",
    "\n",
    "ax.scatter(tmp[:, 0], tmp[:, 1], tmp[:, 2], c=y_train, cmap=\"spring\")\n",
    "\n",
    "ax.w_xaxis.set_ticklabels([])\n",
    "ax.w_yaxis.set_ticklabels([])\n",
    "ax.w_zaxis.set_ticklabels([])"
   ]
  },
  {
   "cell_type": "markdown",
   "metadata": {},
   "source": [
    "降维后两类分开得较为明显"
   ]
  }
 ],
 "metadata": {
  "interpreter": {
   "hash": "bcccda58fdd8a35e93261ba84af5de82938856e494bb3821dc5bf9f45a73f718"
  },
  "kernelspec": {
   "display_name": "Python 3.8.12 64-bit ('dy': conda)",
   "language": "python",
   "name": "python3"
  },
  "language_info": {
   "codemirror_mode": {
    "name": "ipython",
    "version": 3
   },
   "file_extension": ".py",
   "mimetype": "text/x-python",
   "name": "python",
   "nbconvert_exporter": "python",
   "pygments_lexer": "ipython3",
   "version": "3.8.12"
  },
  "orig_nbformat": 4
 },
 "nbformat": 4,
 "nbformat_minor": 2
}
